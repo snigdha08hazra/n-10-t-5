{
 "cells": [
  {
   "cell_type": "code",
   "execution_count": 1,
   "id": "7ced57ef",
   "metadata": {},
   "outputs": [],
   "source": [
    "from qiskit.quantum_info import Statevector, Operator\n",
    "from qiskit import QuantumCircuit, Aer, execute\n",
    "import numpy as np\n",
    "import math\n",
    "import matplotlib.pyplot as pl\n",
    "import random"
   ]
  },
  {
   "cell_type": "markdown",
   "id": "3f391b16",
   "metadata": {},
   "source": [
    "To plot coherence l1 norm (l1), relative entropy(S) and success probability(P) as a funciton of number of iteration(noi) taking the Grover's operator as G = DO"
   ]
  },
  {
   "cell_type": "markdown",
   "id": "bb4eb2d5",
   "metadata": {},
   "source": [
    "O = ( I-2|ψ⟩⟨ψ| ) and D = ( 2|ψ1⟩⟨ψ1|-I )"
   ]
  },
  {
   "attachments": {
    "image-3.png": {
     "image/png": "[encoded data removed]"
    },
    "image-4.png": {
     "image/png": "[encoded data removed]"
    },
    "image-5.png": {
     "image/png": "[encoded data removed]"
    },
    "image-6.png": {
     "image/png": "[encoded data removed]"
    },
    "image-7.png": {
     "image/png": "[encoded data removed]"
    },
    "image-8.png": {
     "image/png": "[encoded data removed]"
    },
    "image.png": {
     "image/png": "[encoded data removed]"
    }
   },
   "cell_type": "markdown",
   "id": "318c0daf",
   "metadata": {},
   "source": [
    "l1 norm of coherence is given by![image.png](attachment:image.png)\n",
    "\n",
    "relative entropy is given by![image-8.png](attachment:image-8.png) with \n",
    "\n",
    "![image-3.png](attachment:image-3.png)   ;   ![image-4.png](attachment:image-4.png)   ;   ![image-5.png](attachment:image-5.png)   ;   ![image-6.png](attachment:image-6.png)   \n",
    "Success probability is determined by the formula![image-7.png](attachment:image-7.png)\n",
    "with t = number of target states and j = iteration number"
   ]
  },
  {
   "cell_type": "code",
   "execution_count": 18,
   "id": "3904289c",
   "metadata": {},
   "outputs": [
    {
     "name": "stdout",
     "output_type": "stream",
     "text": [
      "noi =  15\n",
      "Optimal noi =  11\n",
      "target =  [826.  49. 123. 654. 245.]\n",
      "phi =  [3.141592653589793]\n",
      "x =  [(-1+1.2246467991473532e-16j)]\n"
     ]
    }
   ],
   "source": [
    "n = 10     #no. of qubits\n",
    "N = 2**n   #dimension of matrix\n",
    "t = 5      #no. of target states\n",
    "length = list(range(n))\n",
    "noi = 15   #taking same number of iteration for all cases\n",
    "noi_opt = math.floor(math.sqrt(N/t) * np.pi / 4)   #optimal No of iterations\n",
    "print(\"noi = \", noi)\n",
    "print(\"Optimal noi = \",noi_opt)\n",
    "\n",
    "#to set target states by randomly generating them\n",
    "target = np.zeros(t)    #to store target states\n",
    "count = 0\n",
    "flag = 0\n",
    "i = 0\n",
    "while(True):\n",
    "    #to generate a random integer for target position\n",
    "    a = random.randint(0,N-1)\n",
    "    \n",
    "    #checking if that number has already been chosen previously as target state\n",
    "    for j in range(count):\n",
    "        if(target[j] == a):\n",
    "            flag = 1  #value is present in the target array\n",
    "            \n",
    "    #to store new value in target array\n",
    "    if(flag == 0):\n",
    "        #to store in count position of target array\n",
    "        target[count] = a\n",
    "        #updating count (position) value\n",
    "        count += 1\n",
    "        #checking for further iteration of while loop\n",
    "        if(count == t):\n",
    "            break\n",
    "print(\"target = \",target)\n",
    "\n",
    "phi = [np.pi]    #setting at a particular value\n",
    "print(\"phi = \",phi)\n",
    "\n",
    "x = [complex(np.cos(a), np.sin(a)) for a in phi]\n",
    "print(\"x = \",x)\n",
    "\n",
    "#array to store coherence values after each suboperation in every grover's iteration\n",
    "l1 = np.zeros(noi)    #to store l1 norm of coherence values after each iteration\n",
    "S  = np.zeros(noi)    #to store relative entropy values after each iteration\n",
    "P  = np.zeros(noi)    #to store success probability after each iteration\n",
    "x_axis = list(range(noi))    #to store iteration number"
   ]
  },
  {
   "cell_type": "code",
   "execution_count": 19,
   "id": "cb292786",
   "metadata": {
    "scrolled": true
   },
   "outputs": [
    {
     "name": "stdout",
     "output_type": "stream",
     "text": [
      "======================================== FOR ϕ =  180.0 ========================================\n"
     ]
    },
    {
     "data": {
      "text/plain": [
       "'initialised |ψ0⟩'"
      ]
     },
     "metadata": {},
     "output_type": "display_data"
    },
    {
     "data": {
      "text/latex": [
       "$$ |0000000000\\rangle$$"
      ],
      "text/plain": [
       "<IPython.core.display.Latex object>"
      ]
     },
     "metadata": {},
     "output_type": "display_data"
    },
    {
     "name": "stdout",
     "output_type": "stream",
     "text": [
      "coherence of |ψ0⟩ =  0.0\n"
     ]
    },
    {
     "data": {
      "text/plain": [
       "'applied Hadamard to all |ψ1⟩'"
      ]
     },
     "metadata": {},
     "output_type": "display_data"
    },
    {
     "data": {
      "text/latex": [
       "$$\\frac{1}{32} |0000000000\\rangle+\\frac{1}{32} |0000000001\\rangle+\\frac{1}{32} |0000000010\\rangle+\\frac{1}{32} |0000000011\\rangle+\\frac{1}{32} |0000000100\\rangle+\\frac{1}{32} |0000000101\\rangle + \\ldots +\\frac{1}{32} |1111111011\\rangle+\\frac{1}{32} |1111111100\\rangle+\\frac{1}{32} |1111111101\\rangle+\\frac{1}{32} |1111111110\\rangle+\\frac{1}{32} |1111111111\\rangle$$"
      ],
      "text/plain": [
       "<IPython.core.display.Latex object>"
      ]
     },
     "metadata": {},
     "output_type": "display_data"
    },
    {
     "name": "stdout",
     "output_type": "stream",
     "text": [
      "coherence of |ψ1⟩ =  1023.0000000000001\n",
      "-------- 1  ITERATION--------\n"
     ]
    },
    {
     "data": {
      "text/plain": [
       "'applied O operator to |ψ2⟩'"
      ]
     },
     "metadata": {},
     "output_type": "display_data"
    },
    {
     "data": {
      "text/latex": [
       "$$\\frac{1}{32} |0000000000\\rangle+\\frac{1}{32} |0000000001\\rangle+\\frac{1}{32} |0000000010\\rangle+\\frac{1}{32} |0000000011\\rangle+\\frac{1}{32} |0000000100\\rangle+\\frac{1}{32} |0000000101\\rangle + \\ldots +\\frac{1}{32} |1111111011\\rangle+\\frac{1}{32} |1111111100\\rangle+\\frac{1}{32} |1111111101\\rangle+\\frac{1}{32} |1111111110\\rangle+\\frac{1}{32} |1111111111\\rangle$$"
      ],
      "text/plain": [
       "<IPython.core.display.Latex object>"
      ]
     },
     "metadata": {},
     "output_type": "display_data"
    },
    {
     "data": {
      "text/plain": [
       "'applied D operator to |ψ2⟩'"
      ]
     },
     "metadata": {},
     "output_type": "display_data"
    },
    {
     "data": {
      "text/latex": [
       "$$0.030639648437 |0000000000\\rangle+0.030639648437 |0000000001\\rangle+0.030639648437 |0000000010\\rangle+0.030639648437 |0000000011\\rangle+0.030639648437 |0000000100\\rangle+0.030639648437 |0000000101\\rangle + \\ldots +0.030639648438 |1111111011\\rangle+0.030639648438 |1111111100\\rangle+0.030639648438 |1111111101\\rangle+0.030639648438 |1111111110\\rangle+0.030639648438 |1111111111\\rangle$$"
      ],
      "text/plain": [
       "<IPython.core.display.Latex object>"
      ]
     },
     "metadata": {},
     "output_type": "display_data"
    },
    {
     "name": "stdout",
     "output_type": "stream",
     "text": [
      "coherence of |ψ2⟩ =  1003.09765625\n",
      "l1 norm =  1003.09765625\n",
      "relative entropy =  9.822459731638768\n",
      "-------- 2  ITERATION--------\n"
     ]
    },
    {
     "data": {
      "text/plain": [
       "'applied O operator to |ψ2⟩'"
      ]
     },
     "metadata": {},
     "output_type": "display_data"
    },
    {
     "data": {
      "text/latex": [
       "$$0.030639648437 |0000000000\\rangle+0.030639648437 |0000000001\\rangle+0.030639648437 |0000000010\\rangle+0.030639648437 |0000000011\\rangle+0.030639648437 |0000000100\\rangle+0.030639648437 |0000000101\\rangle + \\ldots +0.030639648438 |1111111011\\rangle+0.030639648438 |1111111100\\rangle+0.030639648438 |1111111101\\rangle+0.030639648438 |1111111110\\rangle+0.030639648438 |1111111111\\rangle$$"
      ],
      "text/plain": [
       "<IPython.core.display.Latex object>"
      ]
     },
     "metadata": {},
     "output_type": "display_data"
    },
    {
     "data": {
      "text/plain": [
       "'applied D operator to |ψ2⟩'"
      ]
     },
     "metadata": {},
     "output_type": "display_data"
    },
    {
     "data": {
      "text/latex": [
       "$$0.029430866241 |0000000000\\rangle+0.029430866241 |0000000001\\rangle+0.029430866241 |0000000010\\rangle+0.029430866241 |0000000011\\rangle+0.029430866241 |0000000100\\rangle+0.029430866241 |0000000101\\rangle + \\ldots +0.029430866241 |1111111011\\rangle+0.029430866241 |1111111100\\rangle+0.029430866241 |1111111101\\rangle+0.029430866241 |1111111110\\rangle+0.029430866241 |1111111111\\rangle$$"
      ],
      "text/plain": [
       "<IPython.core.display.Latex object>"
      ]
     },
     "metadata": {},
     "output_type": "display_data"
    },
    {
     "name": "stdout",
     "output_type": "stream",
     "text": [
      "coherence of |ψ2⟩ =  944.9379034638406\n",
      "l1 norm =  944.9379034638406\n",
      "relative entropy =  9.462953642940015\n",
      "-------- 3  ITERATION--------\n"
     ]
    },
    {
     "data": {
      "text/plain": [
       "'applied O operator to |ψ2⟩'"
      ]
     },
     "metadata": {},
     "output_type": "display_data"
    },
    {
     "data": {
      "text/latex": [
       "$$0.029430866241 |0000000000\\rangle+0.029430866241 |0000000001\\rangle+0.029430866241 |0000000010\\rangle+0.029430866241 |0000000011\\rangle+0.029430866241 |0000000100\\rangle+0.029430866241 |0000000101\\rangle + \\ldots +0.029430866241 |1111111011\\rangle+0.029430866241 |1111111100\\rangle+0.029430866241 |1111111101\\rangle+0.029430866241 |1111111110\\rangle+0.029430866241 |1111111111\\rangle$$"
      ],
      "text/plain": [
       "<IPython.core.display.Latex object>"
      ]
     },
     "metadata": {},
     "output_type": "display_data"
    },
    {
     "data": {
      "text/plain": [
       "'applied D operator to |ψ2⟩'"
      ]
     },
     "metadata": {},
     "output_type": "display_data"
    },
    {
     "data": {
      "text/latex": [
       "$$0.027647262439 |0000000000\\rangle+0.027647262439 |0000000001\\rangle+0.027647262439 |0000000010\\rangle+0.027647262439 |0000000011\\rangle+0.027647262439 |0000000100\\rangle+0.027647262439 |0000000101\\rangle + \\ldots +0.027647262439 |1111111011\\rangle+0.027647262439 |1111111100\\rangle+0.027647262439 |1111111101\\rangle+0.027647262439 |1111111110\\rangle+0.027647262439 |1111111111\\rangle$$"
      ],
      "text/plain": [
       "<IPython.core.display.Latex object>"
      ]
     },
     "metadata": {},
     "output_type": "display_data"
    },
    {
     "name": "stdout",
     "output_type": "stream",
     "text": [
      "coherence of |ψ2⟩ =  853.0422861320836\n",
      "l1 norm =  853.0422861320836\n",
      "relative entropy =  8.89827080043237\n",
      "-------- 4  ITERATION--------\n"
     ]
    },
    {
     "data": {
      "text/plain": [
       "'applied O operator to |ψ2⟩'"
      ]
     },
     "metadata": {},
     "output_type": "display_data"
    },
    {
     "data": {
      "text/latex": [
       "$$0.027647262439 |0000000000\\rangle+0.027647262439 |0000000001\\rangle+0.027647262439 |0000000010\\rangle+0.027647262439 |0000000011\\rangle+0.027647262439 |0000000100\\rangle+0.027647262439 |0000000101\\rangle + \\ldots +0.027647262439 |1111111011\\rangle+0.027647262439 |1111111100\\rangle+0.027647262439 |1111111101\\rangle+0.027647262439 |1111111110\\rangle+0.027647262439 |1111111111\\rangle$$"
      ],
      "text/plain": [
       "<IPython.core.display.Latex object>"
      ]
     },
     "metadata": {},
     "output_type": "display_data"
    },
    {
     "data": {
      "text/plain": [
       "'applied D operator to |ψ2⟩'"
      ]
     },
     "metadata": {},
     "output_type": "display_data"
    },
    {
     "data": {
      "text/latex": [
       "$$\\frac{648 \\cdot 2^{\\frac{71}{108}} \\cdot \\sqrt[9]{3} \\cdot 5^{\\frac{7}{54}} \\cdot 7^{\\frac{73}{108}} \\pi^{\\frac{17}{54}}}{300125} |0000000000\\rangle+\\frac{648 \\cdot 2^{\\frac{71}{108}} \\cdot \\sqrt[9]{3} \\cdot 5^{\\frac{7}{54}} \\cdot 7^{\\frac{73}{108}} \\pi^{\\frac{17}{54}}}{300125} |0000000001\\rangle+\\frac{648 \\cdot 2^{\\frac{71}{108}} \\cdot \\sqrt[9]{3} \\cdot 5^{\\frac{7}{54}} \\cdot 7^{\\frac{73}{108}} \\pi^{\\frac{17}{54}}}{300125} |0000000010\\rangle+\\frac{648 \\cdot 2^{\\frac{71}{108}} \\cdot \\sqrt[9]{3} \\cdot 5^{\\frac{7}{54}} \\cdot 7^{\\frac{73}{108}} \\pi^{\\frac{17}{54}}}{300125} |0000000011\\rangle+\\frac{648 \\cdot 2^{\\frac{71}{108}} \\cdot \\sqrt[9]{3} \\cdot 5^{\\frac{7}{54}} \\cdot 7^{\\frac{73}{108}} \\pi^{\\frac{17}{54}}}{300125} |0000000100\\rangle+\\frac{648 \\cdot 2^{\\frac{71}{108}} \\cdot \\sqrt[9]{3} \\cdot 5^{\\frac{7}{54}} \\cdot 7^{\\frac{73}{108}} \\pi^{\\frac{17}{54}}}{300125} |0000000101\\rangle + \\ldots +\\frac{648 \\cdot 2^{\\frac{71}{108}} \\cdot \\sqrt[9]{3} \\cdot 5^{\\frac{7}{54}} \\cdot 7^{\\frac{73}{108}} \\pi^{\\frac{17}{54}}}{300125} |1111111011\\rangle+\\frac{648 \\cdot 2^{\\frac{71}{108}} \\cdot \\sqrt[9]{3} \\cdot 5^{\\frac{7}{54}} \\cdot 7^{\\frac{73}{108}} \\pi^{\\frac{17}{54}}}{300125} |1111111100\\rangle+\\frac{648 \\cdot 2^{\\frac{71}{108}} \\cdot \\sqrt[9]{3} \\cdot 5^{\\frac{7}{54}} \\cdot 7^{\\frac{73}{108}} \\pi^{\\frac{17}{54}}}{300125} |1111111101\\rangle+\\frac{648 \\cdot 2^{\\frac{71}{108}} \\cdot \\sqrt[9]{3} \\cdot 5^{\\frac{7}{54}} \\cdot 7^{\\frac{73}{108}} \\pi^{\\frac{17}{54}}}{300125} |1111111110\\rangle+\\frac{648 \\cdot 2^{\\frac{71}{108}} \\cdot \\sqrt[9]{3} \\cdot 5^{\\frac{7}{54}} \\cdot 7^{\\frac{73}{108}} \\pi^{\\frac{17}{54}}}{300125} |1111111111\\rangle$$"
      ],
      "text/plain": [
       "<IPython.core.display.Latex object>"
      ]
     },
     "metadata": {},
     "output_type": "display_data"
    },
    {
     "name": "stdout",
     "output_type": "stream",
     "text": [
      "coherence of |ψ2⟩ =  734.5550939898469\n",
      "l1 norm =  734.5550939898469\n",
      "relative entropy =  8.155021457268019\n",
      "-------- 5  ITERATION--------\n"
     ]
    },
    {
     "data": {
      "text/plain": [
       "'applied O operator to |ψ2⟩'"
      ]
     },
     "metadata": {},
     "output_type": "display_data"
    },
    {
     "data": {
      "text/latex": [
       "$$\\frac{648 \\cdot 2^{\\frac{71}{108}} \\cdot \\sqrt[9]{3} \\cdot 5^{\\frac{7}{54}} \\cdot 7^{\\frac{73}{108}} \\pi^{\\frac{17}{54}}}{300125} |0000000000\\rangle+\\frac{648 \\cdot 2^{\\frac{71}{108}} \\cdot \\sqrt[9]{3} \\cdot 5^{\\frac{7}{54}} \\cdot 7^{\\frac{73}{108}} \\pi^{\\frac{17}{54}}}{300125} |0000000001\\rangle+\\frac{648 \\cdot 2^{\\frac{71}{108}} \\cdot \\sqrt[9]{3} \\cdot 5^{\\frac{7}{54}} \\cdot 7^{\\frac{73}{108}} \\pi^{\\frac{17}{54}}}{300125} |0000000010\\rangle+\\frac{648 \\cdot 2^{\\frac{71}{108}} \\cdot \\sqrt[9]{3} \\cdot 5^{\\frac{7}{54}} \\cdot 7^{\\frac{73}{108}} \\pi^{\\frac{17}{54}}}{300125} |0000000011\\rangle+\\frac{648 \\cdot 2^{\\frac{71}{108}} \\cdot \\sqrt[9]{3} \\cdot 5^{\\frac{7}{54}} \\cdot 7^{\\frac{73}{108}} \\pi^{\\frac{17}{54}}}{300125} |0000000100\\rangle+\\frac{648 \\cdot 2^{\\frac{71}{108}} \\cdot \\sqrt[9]{3} \\cdot 5^{\\frac{7}{54}} \\cdot 7^{\\frac{73}{108}} \\pi^{\\frac{17}{54}}}{300125} |0000000101\\rangle + \\ldots +\\frac{648 \\cdot 2^{\\frac{71}{108}} \\cdot \\sqrt[9]{3} \\cdot 5^{\\frac{7}{54}} \\cdot 7^{\\frac{73}{108}} \\pi^{\\frac{17}{54}}}{300125} |1111111011\\rangle+\\frac{648 \\cdot 2^{\\frac{71}{108}} \\cdot \\sqrt[9]{3} \\cdot 5^{\\frac{7}{54}} \\cdot 7^{\\frac{73}{108}} \\pi^{\\frac{17}{54}}}{300125} |1111111100\\rangle+\\frac{648 \\cdot 2^{\\frac{71}{108}} \\cdot \\sqrt[9]{3} \\cdot 5^{\\frac{7}{54}} \\cdot 7^{\\frac{73}{108}} \\pi^{\\frac{17}{54}}}{300125} |1111111101\\rangle+\\frac{648 \\cdot 2^{\\frac{71}{108}} \\cdot \\sqrt[9]{3} \\cdot 5^{\\frac{7}{54}} \\cdot 7^{\\frac{73}{108}} \\pi^{\\frac{17}{54}}}{300125} |1111111110\\rangle+\\frac{648 \\cdot 2^{\\frac{71}{108}} \\cdot \\sqrt[9]{3} \\cdot 5^{\\frac{7}{54}} \\cdot 7^{\\frac{73}{108}} \\pi^{\\frac{17}{54}}}{300125} |1111111111\\rangle$$"
      ],
      "text/plain": [
       "<IPython.core.display.Latex object>"
      ]
     },
     "metadata": {},
     "output_type": "display_data"
    },
    {
     "data": {
      "text/plain": [
       "'applied D operator to |ψ2⟩'"
      ]
     },
     "metadata": {},
     "output_type": "display_data"
    },
    {
     "data": {
      "text/latex": [
       "$$0.022505480656 |0000000000\\rangle+0.022505480656 |0000000001\\rangle+0.022505480656 |0000000010\\rangle+0.022505480656 |0000000011\\rangle+0.022505480656 |0000000100\\rangle+0.022505480656 |0000000101\\rangle + \\ldots +0.022505480656 |1111111011\\rangle+0.022505480656 |1111111100\\rangle+0.022505480656 |1111111101\\rangle+0.022505480656 |1111111110\\rangle+0.022505480656 |1111111111\\rangle$$"
      ],
      "text/plain": [
       "<IPython.core.display.Latex object>"
      ]
     },
     "metadata": {},
     "output_type": "display_data"
    },
    {
     "name": "stdout",
     "output_type": "stream",
     "text": [
      "coherence of |ψ2⟩ =  598.6879396236474\n",
      "l1 norm =  598.6879396236474\n",
      "relative entropy =  7.2803407176448385\n",
      "-------- 6  ITERATION--------\n"
     ]
    },
    {
     "data": {
      "text/plain": [
       "'applied O operator to |ψ2⟩'"
      ]
     },
     "metadata": {},
     "output_type": "display_data"
    },
    {
     "data": {
      "text/latex": [
       "$$0.022505480656 |0000000000\\rangle+0.022505480656 |0000000001\\rangle+0.022505480656 |0000000010\\rangle+0.022505480656 |0000000011\\rangle+0.022505480656 |0000000100\\rangle+0.022505480656 |0000000101\\rangle + \\ldots +0.022505480656 |1111111011\\rangle+0.022505480656 |1111111100\\rangle+0.022505480656 |1111111101\\rangle+0.022505480656 |1111111110\\rangle+0.022505480656 |1111111111\\rangle$$"
      ],
      "text/plain": [
       "<IPython.core.display.Latex object>"
      ]
     },
     "metadata": {},
     "output_type": "display_data"
    },
    {
     "data": {
      "text/plain": [
       "'applied D operator to |ψ2⟩'"
      ]
     },
     "metadata": {},
     "output_type": "display_data"
    },
    {
     "data": {
      "text/latex": [
       "$$0.019247728101 |0000000000\\rangle+0.019247728101 |0000000001\\rangle+0.019247728101 |0000000010\\rangle+0.019247728101 |0000000011\\rangle+0.019247728101 |0000000100\\rangle+0.019247728101 |0000000101\\rangle + \\ldots +0.019247728101 |1111111011\\rangle+0.019247728101 |1111111100\\rangle+0.019247728101 |1111111101\\rangle+0.019247728101 |1111111110\\rangle+0.019247728101 |1111111111\\rangle$$"
      ],
      "text/plain": [
       "<IPython.core.display.Latex object>"
      ]
     },
     "metadata": {},
     "output_type": "display_data"
    },
    {
     "name": "stdout",
     "output_type": "stream",
     "text": [
      "coherence of |ψ2⟩ =  456.0036152803672\n",
      "l1 norm =  456.0036152803672\n",
      "relative entropy =  6.337310155325019\n",
      "-------- 7  ITERATION--------\n"
     ]
    },
    {
     "data": {
      "text/plain": [
       "'applied O operator to |ψ2⟩'"
      ]
     },
     "metadata": {},
     "output_type": "display_data"
    },
    {
     "data": {
      "text/latex": [
       "$$0.019247728101 |0000000000\\rangle+0.019247728101 |0000000001\\rangle+0.019247728101 |0000000010\\rangle+0.019247728101 |0000000011\\rangle+0.019247728101 |0000000100\\rangle+0.019247728101 |0000000101\\rangle + \\ldots +0.019247728101 |1111111011\\rangle+0.019247728101 |1111111100\\rangle+0.019247728101 |1111111101\\rangle+0.019247728101 |1111111110\\rangle+0.019247728101 |1111111111\\rangle$$"
      ],
      "text/plain": [
       "<IPython.core.display.Latex object>"
      ]
     },
     "metadata": {},
     "output_type": "display_data"
    },
    {
     "data": {
      "text/plain": [
       "'applied D operator to |ψ2⟩'"
      ]
     },
     "metadata": {},
     "output_type": "display_data"
    },
    {
     "data": {
      "text/latex": [
       "$$0.015614043357 |0000000000\\rangle+0.015614043357 |0000000001\\rangle+0.015614043357 |0000000010\\rangle+0.015614043357 |0000000011\\rangle+0.015614043357 |0000000100\\rangle+0.015614043357 |0000000101\\rangle + \\ldots +0.015614043357 |1111111011\\rangle+0.015614043357 |1111111100\\rangle+0.015614043357 |1111111101\\rangle+0.015614043357 |1111111110\\rangle+0.015614043357 |1111111111\\rangle$$"
      ],
      "text/plain": [
       "<IPython.core.display.Latex object>"
      ]
     },
     "metadata": {},
     "output_type": "display_data"
    },
    {
     "name": "stdout",
     "output_type": "stream",
     "text": [
      "coherence of |ψ2⟩ =  317.5949040209534\n",
      "l1 norm =  317.5949040209534\n",
      "relative entropy =  5.400550056829393\n",
      "-------- 8  ITERATION--------\n"
     ]
    },
    {
     "data": {
      "text/plain": [
       "'applied O operator to |ψ2⟩'"
      ]
     },
     "metadata": {},
     "output_type": "display_data"
    },
    {
     "data": {
      "text/latex": [
       "$$0.015614043357 |0000000000\\rangle+0.015614043357 |0000000001\\rangle+0.015614043357 |0000000010\\rangle+0.015614043357 |0000000011\\rangle+0.015614043357 |0000000100\\rangle+0.015614043357 |0000000101\\rangle + \\ldots +0.015614043357 |1111111011\\rangle+0.015614043357 |1111111100\\rangle+0.015614043357 |1111111101\\rangle+0.015614043357 |1111111110\\rangle+0.015614043357 |1111111111\\rangle$$"
      ],
      "text/plain": [
       "<IPython.core.display.Latex object>"
      ]
     },
     "metadata": {},
     "output_type": "display_data"
    },
    {
     "data": {
      "text/plain": [
       "'applied D operator to |ψ2⟩'"
      ]
     },
     "metadata": {},
     "output_type": "display_data"
    },
    {
     "data": {
      "text/latex": [
       "$$0.011675396828 |0000000000\\rangle+0.011675396828 |0000000001\\rangle+0.011675396828 |0000000010\\rangle+0.011675396828 |0000000011\\rangle+0.011675396828 |0000000100\\rangle+0.011675396828 |0000000101\\rangle + \\ldots +0.011675396828 |1111111011\\rangle+0.011675396828 |1111111100\\rangle+0.011675396828 |1111111101\\rangle+0.011675396828 |1111111110\\rangle+0.011675396828 |1111111111\\rangle$$"
      ],
      "text/plain": [
       "<IPython.core.display.Latex object>"
      ]
     },
     "metadata": {},
     "output_type": "display_data"
    },
    {
     "name": "stdout",
     "output_type": "stream",
     "text": [
      "coherence of |ψ2⟩ =  194.22218769509888\n",
      "l1 norm =  194.22218769509888\n",
      "relative entropy =  4.552125940383964\n",
      "-------- 9  ITERATION--------\n"
     ]
    },
    {
     "data": {
      "text/plain": [
       "'applied O operator to |ψ2⟩'"
      ]
     },
     "metadata": {},
     "output_type": "display_data"
    },
    {
     "data": {
      "text/latex": [
       "$$0.011675396828 |0000000000\\rangle+0.011675396828 |0000000001\\rangle+0.011675396828 |0000000010\\rangle+0.011675396828 |0000000011\\rangle+0.011675396828 |0000000100\\rangle+0.011675396828 |0000000101\\rangle + \\ldots +0.011675396828 |1111111011\\rangle+0.011675396828 |1111111100\\rangle+0.011675396828 |1111111101\\rangle+0.011675396828 |1111111110\\rangle+0.011675396828 |1111111111\\rangle$$"
      ],
      "text/plain": [
       "<IPython.core.display.Latex object>"
      ]
     },
     "metadata": {},
     "output_type": "display_data"
    },
    {
     "data": {
      "text/plain": [
       "'applied D operator to |ψ2⟩'"
      ]
     },
     "metadata": {},
     "output_type": "display_data"
    },
    {
     "data": {
      "text/latex": [
       "$$0.007508715205 |0000000000\\rangle+0.007508715205 |0000000001\\rangle+0.007508715205 |0000000010\\rangle+0.007508715205 |0000000011\\rangle+0.007508715205 |0000000100\\rangle+0.007508715205 |0000000101\\rangle + \\ldots +0.007508715205 |1111111011\\rangle+0.007508715205 |1111111100\\rangle+0.007508715205 |1111111101\\rangle+0.007508715205 |1111111110\\rangle+0.007508715205 |1111111111\\rangle$$"
      ],
      "text/plain": [
       "<IPython.core.display.Latex object>"
      ]
     },
     "metadata": {},
     "output_type": "display_data"
    },
    {
     "name": "stdout",
     "output_type": "stream",
     "text": [
      "coherence of |ψ2⟩ =  95.47689681707203\n",
      "l1 norm =  95.47689681707203\n",
      "relative entropy =  3.8788413400300445\n",
      "-------- 10  ITERATION--------\n"
     ]
    },
    {
     "data": {
      "text/plain": [
       "'applied O operator to |ψ2⟩'"
      ]
     },
     "metadata": {},
     "output_type": "display_data"
    },
    {
     "data": {
      "text/latex": [
       "$$0.007508715205 |0000000000\\rangle+0.007508715205 |0000000001\\rangle+0.007508715205 |0000000010\\rangle+0.007508715205 |0000000011\\rangle+0.007508715205 |0000000100\\rangle+0.007508715205 |0000000101\\rangle + \\ldots +0.007508715205 |1111111011\\rangle+0.007508715205 |1111111100\\rangle+0.007508715205 |1111111101\\rangle+0.007508715205 |1111111110\\rangle+0.007508715205 |1111111111\\rangle$$"
      ],
      "text/plain": [
       "<IPython.core.display.Latex object>"
      ]
     },
     "metadata": {},
     "output_type": "display_data"
    },
    {
     "data": {
      "text/plain": [
       "'applied D operator to |ψ2⟩'"
      ]
     },
     "metadata": {},
     "output_type": "display_data"
    },
    {
     "data": {
      "text/latex": [
       "$$0.003195378988 |0000000000\\rangle+0.003195378988 |0000000001\\rangle+0.003195378988 |0000000010\\rangle+0.003195378988 |0000000011\\rangle+0.003195378988 |0000000100\\rangle+0.003195378988 |0000000101\\rangle + \\ldots +0.003195378988 |1111111011\\rangle+0.003195378988 |1111111100\\rangle+0.003195378988 |1111111101\\rangle+0.003195378988 |1111111110\\rangle+0.003195378988 |1111111111\\rangle$$"
      ],
      "text/plain": [
       "<IPython.core.display.Latex object>"
      ]
     },
     "metadata": {},
     "output_type": "display_data"
    },
    {
     "name": "stdout",
     "output_type": "stream",
     "text": [
      "coherence of |ψ2⟩ =  29.035838892015608\n",
      "l1 norm =  29.035838892015608\n",
      "relative entropy =  3.4747250080745804\n",
      "-------- 11  ITERATION--------\n"
     ]
    },
    {
     "data": {
      "text/plain": [
       "'applied O operator to |ψ2⟩'"
      ]
     },
     "metadata": {},
     "output_type": "display_data"
    },
    {
     "data": {
      "text/latex": [
       "$$0.003195378988 |0000000000\\rangle+0.003195378988 |0000000001\\rangle+0.003195378988 |0000000010\\rangle+0.003195378988 |0000000011\\rangle+0.003195378988 |0000000100\\rangle+0.003195378988 |0000000101\\rangle + \\ldots +0.003195378988 |1111111011\\rangle+0.003195378988 |1111111100\\rangle+0.003195378988 |1111111101\\rangle+0.003195378988 |1111111110\\rangle+0.003195378988 |1111111111\\rangle$$"
      ],
      "text/plain": [
       "<IPython.core.display.Latex object>"
      ]
     },
     "metadata": {},
     "output_type": "display_data"
    },
    {
     "data": {
      "text/plain": [
       "'applied D operator to |ψ2⟩'"
      ]
     },
     "metadata": {},
     "output_type": "display_data"
    },
    {
     "data": {
      "text/latex": [
       "$$-0.001180366975 |0000000000\\rangle-0.001180366975 |0000000001\\rangle-0.001180366975 |0000000010\\rangle-0.001180366975 |0000000011\\rangle-0.001180366975 |0000000100\\rangle-0.001180366975 |0000000101\\rangle + \\ldots -0.001180366975 |1111111011\\rangle-0.001180366975 |1111111100\\rangle-0.001180366975 |1111111101\\rangle-0.001180366975 |1111111110\\rangle-0.001180366975 |1111111111\\rangle$$"
      ],
      "text/plain": [
       "<IPython.core.display.Latex object>"
      ]
     },
     "metadata": {},
     "output_type": "display_data"
    },
    {
     "name": "stdout",
     "output_type": "stream",
     "text": [
      "coherence of |ψ2⟩ =  10.814852863437427\n",
      "l1 norm =  10.814852863437427\n",
      "relative entropy =  3.4841731367652677\n",
      "-------- 12  ITERATION--------\n"
     ]
    },
    {
     "data": {
      "text/plain": [
       "'applied O operator to |ψ2⟩'"
      ]
     },
     "metadata": {},
     "output_type": "display_data"
    },
    {
     "data": {
      "text/latex": [
       "$$-0.001180366975 |0000000000\\rangle-0.001180366975 |0000000001\\rangle-0.001180366975 |0000000010\\rangle-0.001180366975 |0000000011\\rangle-0.001180366975 |0000000100\\rangle-0.001180366975 |0000000101\\rangle + \\ldots -0.001180366975 |1111111011\\rangle-0.001180366975 |1111111100\\rangle-0.001180366975 |1111111101\\rangle-0.001180366975 |1111111110\\rangle-0.001180366975 |1111111111\\rangle$$"
      ],
      "text/plain": [
       "<IPython.core.display.Latex object>"
      ]
     },
     "metadata": {},
     "output_type": "display_data"
    },
    {
     "data": {
      "text/plain": [
       "'applied D operator to |ψ2⟩'"
      ]
     },
     "metadata": {},
     "output_type": "display_data"
    },
    {
     "data": {
      "text/latex": [
       "$$- \\frac{9 \\cdot 2^{\\frac{22}{29}} \\cdot 3^{\\frac{2}{87}} \\cdot 5^{\\frac{44}{87}} \\cdot 7^{\\frac{15}{29}}}{350 \\pi^{\\frac{99}{29}}} |0000000000\\rangle- \\frac{9 \\cdot 2^{\\frac{22}{29}} \\cdot 3^{\\frac{2}{87}} \\cdot 5^{\\frac{44}{87}} \\cdot 7^{\\frac{15}{29}}}{350 \\pi^{\\frac{99}{29}}} |0000000001\\rangle- \\frac{9 \\cdot 2^{\\frac{22}{29}} \\cdot 3^{\\frac{2}{87}} \\cdot 5^{\\frac{44}{87}} \\cdot 7^{\\frac{15}{29}}}{350 \\pi^{\\frac{99}{29}}} |0000000010\\rangle- \\frac{9 \\cdot 2^{\\frac{22}{29}} \\cdot 3^{\\frac{2}{87}} \\cdot 5^{\\frac{44}{87}} \\cdot 7^{\\frac{15}{29}}}{350 \\pi^{\\frac{99}{29}}} |0000000011\\rangle- \\frac{9 \\cdot 2^{\\frac{22}{29}} \\cdot 3^{\\frac{2}{87}} \\cdot 5^{\\frac{44}{87}} \\cdot 7^{\\frac{15}{29}}}{350 \\pi^{\\frac{99}{29}}} |0000000100\\rangle- \\frac{9 \\cdot 2^{\\frac{22}{29}} \\cdot 3^{\\frac{2}{87}} \\cdot 5^{\\frac{44}{87}} \\cdot 7^{\\frac{15}{29}}}{350 \\pi^{\\frac{99}{29}}} |0000000101\\rangle + \\ldots - \\frac{9 \\cdot 2^{\\frac{22}{29}} \\cdot 3^{\\frac{2}{87}} \\cdot 5^{\\frac{44}{87}} \\cdot 7^{\\frac{15}{29}}}{350 \\pi^{\\frac{99}{29}}} |1111111011\\rangle- \\frac{9 \\cdot 2^{\\frac{22}{29}} \\cdot 3^{\\frac{2}{87}} \\cdot 5^{\\frac{44}{87}} \\cdot 7^{\\frac{15}{29}}}{350 \\pi^{\\frac{99}{29}}} |1111111100\\rangle- \\frac{9 \\cdot 2^{\\frac{22}{29}} \\cdot 3^{\\frac{2}{87}} \\cdot 5^{\\frac{44}{87}} \\cdot 7^{\\frac{15}{29}}}{350 \\pi^{\\frac{99}{29}}} |1111111101\\rangle- \\frac{9 \\cdot 2^{\\frac{22}{29}} \\cdot 3^{\\frac{2}{87}} \\cdot 5^{\\frac{44}{87}} \\cdot 7^{\\frac{15}{29}}}{350 \\pi^{\\frac{99}{29}}} |1111111110\\rangle- \\frac{9 \\cdot 2^{\\frac{22}{29}} \\cdot 3^{\\frac{2}{87}} \\cdot 5^{\\frac{44}{87}} \\cdot 7^{\\frac{15}{29}}}{350 \\pi^{\\frac{99}{29}}} |1111111111\\rangle$$"
      ],
      "text/plain": [
       "<IPython.core.display.Latex object>"
      ]
     },
     "metadata": {},
     "output_type": "display_data"
    },
    {
     "name": "stdout",
     "output_type": "stream",
     "text": [
      "coherence of |ψ2⟩ =  60.451488541828034\n",
      "l1 norm =  60.451488541828034\n",
      "relative entropy =  3.9849149845219864\n",
      "-------- 13  ITERATION--------\n"
     ]
    },
    {
     "data": {
      "text/plain": [
       "'applied O operator to |ψ2⟩'"
      ]
     },
     "metadata": {},
     "output_type": "display_data"
    },
    {
     "data": {
      "text/latex": [
       "$$- \\frac{9 \\cdot 2^{\\frac{22}{29}} \\cdot 3^{\\frac{2}{87}} \\cdot 5^{\\frac{44}{87}} \\cdot 7^{\\frac{15}{29}}}{350 \\pi^{\\frac{99}{29}}} |0000000000\\rangle- \\frac{9 \\cdot 2^{\\frac{22}{29}} \\cdot 3^{\\frac{2}{87}} \\cdot 5^{\\frac{44}{87}} \\cdot 7^{\\frac{15}{29}}}{350 \\pi^{\\frac{99}{29}}} |0000000001\\rangle- \\frac{9 \\cdot 2^{\\frac{22}{29}} \\cdot 3^{\\frac{2}{87}} \\cdot 5^{\\frac{44}{87}} \\cdot 7^{\\frac{15}{29}}}{350 \\pi^{\\frac{99}{29}}} |0000000010\\rangle- \\frac{9 \\cdot 2^{\\frac{22}{29}} \\cdot 3^{\\frac{2}{87}} \\cdot 5^{\\frac{44}{87}} \\cdot 7^{\\frac{15}{29}}}{350 \\pi^{\\frac{99}{29}}} |0000000011\\rangle- \\frac{9 \\cdot 2^{\\frac{22}{29}} \\cdot 3^{\\frac{2}{87}} \\cdot 5^{\\frac{44}{87}} \\cdot 7^{\\frac{15}{29}}}{350 \\pi^{\\frac{99}{29}}} |0000000100\\rangle- \\frac{9 \\cdot 2^{\\frac{22}{29}} \\cdot 3^{\\frac{2}{87}} \\cdot 5^{\\frac{44}{87}} \\cdot 7^{\\frac{15}{29}}}{350 \\pi^{\\frac{99}{29}}} |0000000101\\rangle + \\ldots - \\frac{9 \\cdot 2^{\\frac{22}{29}} \\cdot 3^{\\frac{2}{87}} \\cdot 5^{\\frac{44}{87}} \\cdot 7^{\\frac{15}{29}}}{350 \\pi^{\\frac{99}{29}}} |1111111011\\rangle- \\frac{9 \\cdot 2^{\\frac{22}{29}} \\cdot 3^{\\frac{2}{87}} \\cdot 5^{\\frac{44}{87}} \\cdot 7^{\\frac{15}{29}}}{350 \\pi^{\\frac{99}{29}}} |1111111100\\rangle- \\frac{9 \\cdot 2^{\\frac{22}{29}} \\cdot 3^{\\frac{2}{87}} \\cdot 5^{\\frac{44}{87}} \\cdot 7^{\\frac{15}{29}}}{350 \\pi^{\\frac{99}{29}}} |1111111101\\rangle- \\frac{9 \\cdot 2^{\\frac{22}{29}} \\cdot 3^{\\frac{2}{87}} \\cdot 5^{\\frac{44}{87}} \\cdot 7^{\\frac{15}{29}}}{350 \\pi^{\\frac{99}{29}}} |1111111110\\rangle- \\frac{9 \\cdot 2^{\\frac{22}{29}} \\cdot 3^{\\frac{2}{87}} \\cdot 5^{\\frac{44}{87}} \\cdot 7^{\\frac{15}{29}}}{350 \\pi^{\\frac{99}{29}}} |1111111111\\rangle$$"
      ],
      "text/plain": [
       "<IPython.core.display.Latex object>"
      ]
     },
     "metadata": {},
     "output_type": "display_data"
    },
    {
     "data": {
      "text/plain": [
       "'applied D operator to |ψ2⟩'"
      ]
     },
     "metadata": {},
     "output_type": "display_data"
    },
    {
     "data": {
      "text/latex": [
       "$$-0.009777683259 |0000000000\\rangle-0.009777683259 |0000000001\\rangle-0.009777683259 |0000000010\\rangle-0.009777683259 |0000000011\\rangle-0.009777683259 |0000000100\\rangle-0.009777683259 |0000000101\\rangle + \\ldots -0.009777683259 |1111111011\\rangle-0.009777683259 |1111111100\\rangle-0.009777683259 |1111111101\\rangle-0.009777683259 |1111111110\\rangle-0.009777683259 |1111111111\\rangle$$"
      ],
      "text/plain": [
       "<IPython.core.display.Latex object>"
      ]
     },
     "metadata": {},
     "output_type": "display_data"
    },
    {
     "name": "stdout",
     "output_type": "stream",
     "text": [
      "coherence of |ψ2⟩ =  145.1153560614928\n",
      "l1 norm =  145.1153560614928\n",
      "relative entropy =  4.773106303472716\n",
      "-------- 14  ITERATION--------\n"
     ]
    },
    {
     "data": {
      "text/plain": [
       "'applied O operator to |ψ2⟩'"
      ]
     },
     "metadata": {},
     "output_type": "display_data"
    },
    {
     "data": {
      "text/latex": [
       "$$-0.009777683259 |0000000000\\rangle-0.009777683259 |0000000001\\rangle-0.009777683259 |0000000010\\rangle-0.009777683259 |0000000011\\rangle-0.009777683259 |0000000100\\rangle-0.009777683259 |0000000101\\rangle + \\ldots -0.009777683259 |1111111011\\rangle-0.009777683259 |1111111100\\rangle-0.009777683259 |1111111101\\rangle-0.009777683259 |1111111110\\rangle-0.009777683259 |1111111111\\rangle$$"
      ],
      "text/plain": [
       "<IPython.core.display.Latex object>"
      ]
     },
     "metadata": {},
     "output_type": "display_data"
    },
    {
     "data": {
      "text/plain": [
       "'applied D operator to |ψ2⟩'"
      ]
     },
     "metadata": {},
     "output_type": "display_data"
    },
    {
     "data": {
      "text/latex": [
       "$$-0.013831337247 |0000000000\\rangle-0.013831337247 |0000000001\\rangle-0.013831337247 |0000000010\\rangle-0.013831337247 |0000000011\\rangle-0.013831337247 |0000000100\\rangle-0.013831337247 |0000000101\\rangle + \\ldots -0.013831337247 |1111111011\\rangle-0.013831337247 |1111111100\\rangle-0.013831337247 |1111111101\\rangle-0.013831337247 |1111111110\\rangle-0.013831337247 |1111111111\\rangle$$"
      ],
      "text/plain": [
       "<IPython.core.display.Latex object>"
      ]
     },
     "metadata": {},
     "output_type": "display_data"
    },
    {
     "name": "stdout",
     "output_type": "stream",
     "text": [
      "coherence of |ψ2⟩ =  258.22438747816955\n",
      "l1 norm =  258.22438747816955\n",
      "relative entropy =  5.72237525473899\n",
      "-------- 15  ITERATION--------\n"
     ]
    },
    {
     "data": {
      "text/plain": [
       "'applied O operator to |ψ2⟩'"
      ]
     },
     "metadata": {},
     "output_type": "display_data"
    },
    {
     "data": {
      "text/latex": [
       "$$-0.013831337247 |0000000000\\rangle-0.013831337247 |0000000001\\rangle-0.013831337247 |0000000010\\rangle-0.013831337247 |0000000011\\rangle-0.013831337247 |0000000100\\rangle-0.013831337247 |0000000101\\rangle + \\ldots -0.013831337247 |1111111011\\rangle-0.013831337247 |1111111100\\rangle-0.013831337247 |1111111101\\rangle-0.013831337247 |1111111110\\rangle-0.013831337247 |1111111111\\rangle$$"
      ],
      "text/plain": [
       "<IPython.core.display.Latex object>"
      ]
     },
     "metadata": {},
     "output_type": "display_data"
    },
    {
     "data": {
      "text/plain": [
       "'applied D operator to |ψ2⟩'"
      ]
     },
     "metadata": {},
     "output_type": "display_data"
    },
    {
     "data": {
      "text/latex": [
       "$$-0.017614847929 |0000000000\\rangle-0.017614847929 |0000000001\\rangle-0.017614847929 |0000000010\\rangle-0.017614847929 |0000000011\\rangle-0.017614847929 |0000000100\\rangle-0.017614847929 |0000000101\\rangle + \\ldots -0.017614847929 |1111111011\\rangle-0.017614847929 |1111111100\\rangle-0.017614847929 |1111111101\\rangle-0.017614847929 |1111111110\\rangle-0.017614847929 |1111111111\\rangle$$"
      ],
      "text/plain": [
       "<IPython.core.display.Latex object>"
      ]
     },
     "metadata": {},
     "output_type": "display_data"
    },
    {
     "name": "stdout",
     "output_type": "stream",
     "text": [
      "coherence of |ψ2⟩ =  390.98508736508006\n",
      "l1 norm =  390.98508736508006\n",
      "relative entropy =  6.7268448424374485\n"
     ]
    }
   ],
   "source": [
    "def iteration(i,a):\n",
    "    qc.barrier()\n",
    "    #count = i*2\n",
    "    copy_i = i    #storing copy of iteration number\n",
    "    copy_a = a    #storing copy of phi value\n",
    "    \n",
    "    #applying O operator\n",
    "    qc.append(O_operator,length)\n",
    "    result = execute(qc, backend).result()\n",
    "    state = result.get_statevector()\n",
    "    display(\"applied O operator to |ψ2⟩\", state.draw('latex'))\n",
    "    \n",
    "    #Applying D operator\n",
    "    qc.append(D_operator,length)\n",
    "    result = execute(qc, backend).result()\n",
    "    state = result.get_statevector()\n",
    "    display(\"applied D operator to |ψ2⟩\", state.draw('latex'))\n",
    "    density_operator = state.to_operator()\n",
    "    \n",
    "    #calculating coherence by l1 norm\n",
    "    coherence = 0\n",
    "    for i in range(N):\n",
    "        for j in range(N):\n",
    "            if(i != j):\n",
    "                coherence += abs(density_operator.data[i,j])\n",
    "    print(\"coherence of |ψ2⟩ = \",coherence)\n",
    "    l1[copy_i] = coherence\n",
    "    print(\"l1 norm = \",coherence)\n",
    "    \n",
    "    #calculating coherence by relative entropy\n",
    "    j = copy_i+1   #to store the actual iteration number \n",
    "    alpha = 2*np.arctan(np.sqrt(t/(N-t)))\n",
    "    alpha_j = (j+1/2.0)*alpha    \n",
    "    a = np.sin(alpha_j)\n",
    "    a_2 = a**2\n",
    "    H = -(a_2*math.log2(a_2)+(1-a_2)*math.log2(1-a_2))\n",
    "    Cr = H+math.log2(N-j)+a_2*math.log2(j/(N-j))\n",
    "    S[copy_i] = Cr\n",
    "    print(\"relative entropy = \",Cr)\n",
    "    \n",
    "    #calculating success probability\n",
    "    P[copy_i] = np.sin(alpha_j)**2\n",
    "    \n",
    "for a in range(len(phi)):\n",
    "    print(\"======================================== FOR ϕ = \", phi[a]*180/np.pi,\"========================================\")\n",
    "    qc = QuantumCircuit(n)\n",
    "    backend = Aer.get_backend('statevector_simulator')\n",
    "    result = execute(qc, backend).result()\n",
    "    state = result.get_statevector()\n",
    "    display(\"initialised |ψ0⟩\", state.draw('latex'))\n",
    "    density_operator = state.to_operator()\n",
    "    #print(density_operator.data)\n",
    "    coherence = 0\n",
    "    for i in range(N):\n",
    "        for j in range(N):\n",
    "            if(i != j):\n",
    "                coherence += abs(density_operator.data[i,j])\n",
    "    print(\"coherence of |ψ0⟩ = \",coherence)\n",
    "\n",
    "    qc.h(length)\n",
    "    result = execute(qc, backend).result()\n",
    "    state = result.get_statevector()\n",
    "    display(\"applied Hadamard to all |ψ1⟩\", state.draw('latex'))\n",
    "    density_operator = state.to_operator()\n",
    "    #print(density_operator.data)\n",
    "    coherence = 0\n",
    "    for i in range(N):\n",
    "        for j in range(N):\n",
    "            if(i != j):\n",
    "                coherence += abs(density_operator.data[i,j])\n",
    "    print(\"coherence of |ψ1⟩ = \",coherence)\n",
    "\n",
    "    #defining generalised O Operator\n",
    "    count = 0\n",
    "    choice = a\n",
    "    O_operator = Operator(np.zeros((N,N)))\n",
    "    for i in range(N):\n",
    "        for j in range(N):\n",
    "            if(i != j):   #off diagonal elements\n",
    "                O_operator.data[i][j] = 0\n",
    "            else:    #diagonal elements\n",
    "                flag = 0\n",
    "                for k in range(t):\n",
    "                    if(i == target[k]):\n",
    "                        O_operator.data[i][j] = x[choice]\n",
    "                        count += 1\n",
    "                        flag = 1\n",
    "                        break\n",
    "                if(flag == 0):\n",
    "                    O_operator.data[i][j] = 1            \n",
    "   \n",
    "    #defining D operator\n",
    "    D_operator = Operator(np.zeros((N,N)))\n",
    "    for i in range(N):\n",
    "        for j in range(N):\n",
    "            if(i == j):    #for diagonal elements\n",
    "                D_operator.data[i][j] = 2*density_operator.data[i][j]-1\n",
    "            else:          #for off-diagonal elements\n",
    "                D_operator.data[i][j] = 2*density_operator.data[i][j]\n",
    "    \n",
    "    #sending out for x iterations of grover's operator\n",
    "    for i in range(noi):\n",
    "        print(\"--------\",(i+1),\" ITERATION--------\")\n",
    "        iteration(i,a)    #a takes angle phi and i takes noi"
   ]
  },
  {
   "cell_type": "code",
   "execution_count": 20,
   "id": "fd1f8d7d",
   "metadata": {},
   "outputs": [
    {
     "name": "stdout",
     "output_type": "stream",
     "text": [
      "l1 =  [0.9795875549316406, 0.9227909213514068, 0.8330491075508629, 0.7173389589744599, 0.5846561910387181, 0.4453160305472336, 0.3101512734579623, 0.189670105170995, 0.0932391570479219, 0.028355311417983992, 0.010561379749450612, 0.05903465677912894, 0.14171421490380157, 0.25217225339664995, 0.381821374379961]\n",
      "S_N =  [0.009592245831678484, 0.009241165666933608, 0.008689717578547236, 0.0079638881418633, 0.007109707732075038, 0.006188779448559589, 0.005273974664872454, 0.004445435488656215, 0.0037879309961230904, 0.0033932861406978324, 0.0034025128288723318, 0.0038915185395722524, 0.004661236624485074, 0.005588257084706045, 0.006569184416442821]\n",
      "P =  [0.04337497 0.11736677 0.22110583 0.3465271  0.4838799  0.62248594\n",
      " 0.75156948 0.86109513 0.94254796 0.98959555 0.99858026 0.96880358\n",
      " 0.90258045 0.8050593  0.68382176]\n"
     ]
    },
    {
     "data": {
      "image/png": "[encoded data removed]",
      "text/plain": [
       "<Figure size 640x480 with 2 Axes>"
      ]
     },
     "metadata": {},
     "output_type": "display_data"
    }
   ],
   "source": [
    "l1_N = [a/N for a in l1]\n",
    "S_N  = [a/N for a in S]\n",
    "xa   = [a+1 for a in x_axis]\n",
    "\n",
    "print(\"l1 = \",l1_N)\n",
    "print(\"S_N = \",S_N)\n",
    "print(\"P = \",P)\n",
    "\n",
    "fig, ax1 = pl.subplots()\n",
    "pl.title(\"n = {} and t = {}\".format(n, t))\n",
    "color1 = 'tab:red'\n",
    "color2 = 'black'\n",
    "ax1.set_xlabel('----Number of iterations----')\n",
    "ax1.scatter(xa, l1_N, marker='d', color=color1, label='l1_norm/N')\n",
    "ax1.plot(xa, l1_N, color=color1)\n",
    "ax1.scatter(xa, P, color=color2, label='success probability')\n",
    "ax1.plot(xa, P, color=color2)\n",
    "pl.legend()\n",
    "ax1.set_ylabel(\"l1 norm and success probability\")\n",
    "pl.grid(True)\n",
    "\n",
    "ax2 = ax1.twinx()\n",
    "color = 'tab:blue'\n",
    "ax2.scatter(xa, S_N, color=color, label='S/N')\n",
    "ax2.plot(xa, S_N, color=color)\n",
    "pl.legend()\n",
    "ax2.set_ylabel('relatove entropy', color=color)\n",
    "ax2.tick_params(axis='y', labelcolor=color)\n",
    "\n",
    "fig.tight_layout()\n",
    "#pl.grid(True)\n",
    "pl.show()"
   ]
  },
  {
   "cell_type": "code",
   "execution_count": null,
   "id": "81feddd4",
   "metadata": {},
   "outputs": [],
   "source": []
  }
 ],
 "metadata": {
  "kernelspec": {
   "display_name": "Python 3 (ipykernel)",
   "language": "python",
   "name": "python3"
  },
  "language_info": {
   "codemirror_mode": {
    "name": "ipython",
    "version": 3
   },
   "file_extension": ".py",
   "mimetype": "text/x-python",
   "name": "python",
   "nbconvert_exporter": "python",
   "pygments_lexer": "ipython3",
   "version": "3.9.13"
  }
 },
 "nbformat": 4,
 "nbformat_minor": 5
}
